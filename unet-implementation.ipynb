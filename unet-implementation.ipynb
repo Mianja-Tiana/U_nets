{
 "cells": [
  {
   "cell_type": "code",
   "execution_count": 1,
   "id": "d79d2fa4",
   "metadata": {
    "execution": {
     "iopub.execute_input": "2025-08-28T23:38:16.647186Z",
     "iopub.status.busy": "2025-08-28T23:38:16.646415Z",
     "iopub.status.idle": "2025-08-28T23:38:20.955711Z",
     "shell.execute_reply": "2025-08-28T23:38:20.954662Z"
    },
    "papermill": {
     "duration": 4.316547,
     "end_time": "2025-08-28T23:38:20.957017",
     "exception": false,
     "start_time": "2025-08-28T23:38:16.640470",
     "status": "completed"
    },
    "tags": []
   },
   "outputs": [
    {
     "name": "stdout",
     "output_type": "stream",
     "text": [
      "Note: you may need to restart the kernel to use updated packages.\n"
     ]
    }
   ],
   "source": [
    "%pip install livelossplot > /dev/null"
   ]
  },
  {
   "cell_type": "code",
   "execution_count": 2,
   "id": "acae0e1f",
   "metadata": {
    "execution": {
     "iopub.execute_input": "2025-08-28T23:38:20.966642Z",
     "iopub.status.busy": "2025-08-28T23:38:20.966392Z",
     "iopub.status.idle": "2025-08-28T23:38:32.803176Z",
     "shell.execute_reply": "2025-08-28T23:38:32.802532Z"
    },
    "papermill": {
     "duration": 11.843136,
     "end_time": "2025-08-28T23:38:32.804621",
     "exception": false,
     "start_time": "2025-08-28T23:38:20.961485",
     "status": "completed"
    },
    "tags": []
   },
   "outputs": [],
   "source": [
    "import os\n",
    "import re\n",
    "import glob\n",
    "import cv2\n",
    "import tqdm\n",
    "import functools\n",
    "\n",
    "from typing import Callable\n",
    "\n",
    "import numpy as np\n",
    "import matplotlib.pyplot as plt\n",
    "\n",
    "import torch\n",
    "import torch.nn as nn\n",
    "import torch.nn.functional as F\n",
    "import torch.optim as optim\n",
    "\n",
    "from torchvision.transforms import v2\n",
    "from torch.utils.data import Dataset, DataLoader, Subset\n",
    "\n",
    "from sklearn.model_selection import train_test_split\n",
    "\n",
    "import albumentations as A\n",
    "from albumentations.pytorch import ToTensorV2\n",
    "\n",
    "from livelossplot import PlotLosses"
   ]
  },
  {
   "cell_type": "code",
   "execution_count": 3,
   "id": "cf6c4ffc",
   "metadata": {
    "_cell_guid": "b1076dfc-b9ad-4769-8c92-a6c4dae69d19",
    "_uuid": "8f2839f25d086af736a60e9eeb907d3b93b6e0e5",
    "execution": {
     "iopub.execute_input": "2025-08-28T23:38:32.815374Z",
     "iopub.status.busy": "2025-08-28T23:38:32.814623Z",
     "iopub.status.idle": "2025-08-28T23:38:32.826305Z",
     "shell.execute_reply": "2025-08-28T23:38:32.825662Z"
    },
    "papermill": {
     "duration": 0.017402,
     "end_time": "2025-08-28T23:38:32.827325",
     "exception": false,
     "start_time": "2025-08-28T23:38:32.809923",
     "status": "completed"
    },
    "tags": []
   },
   "outputs": [
    {
     "name": "stdout",
     "output_type": "stream",
     "text": [
      "['benign', 'normal', 'malignant']\n"
     ]
    }
   ],
   "source": [
    "data_path =\"/kaggle/input/breast-ultrasound-images-dataset/Dataset_BUSI_with_GT\"\n",
    "print(os.listdir(data_path))"
   ]
  },
  {
   "cell_type": "markdown",
   "id": "5cf3a40d",
   "metadata": {
    "papermill": {
     "duration": 0.003863,
     "end_time": "2025-08-28T23:38:32.835224",
     "exception": false,
     "start_time": "2025-08-28T23:38:32.831361",
     "status": "completed"
    },
    "tags": []
   },
   "source": [
    "## Loading Data"
   ]
  },
  {
   "cell_type": "markdown",
   "id": "3c1a04ee",
   "metadata": {
    "papermill": {
     "duration": 0.003812,
     "end_time": "2025-08-28T23:38:32.842973",
     "exception": false,
     "start_time": "2025-08-28T23:38:32.839161",
     "status": "completed"
    },
    "tags": []
   },
   "source": [
    "### Dataset Object"
   ]
  },
  {
   "cell_type": "code",
   "execution_count": 4,
   "id": "1ff42be7",
   "metadata": {
    "execution": {
     "iopub.execute_input": "2025-08-28T23:38:32.851666Z",
     "iopub.status.busy": "2025-08-28T23:38:32.851445Z",
     "iopub.status.idle": "2025-08-28T23:38:44.949068Z",
     "shell.execute_reply": "2025-08-28T23:38:44.948223Z"
    },
    "papermill": {
     "duration": 12.103511,
     "end_time": "2025-08-28T23:38:44.950358",
     "exception": false,
     "start_time": "2025-08-28T23:38:32.846847",
     "status": "completed"
    },
    "tags": []
   },
   "outputs": [
    {
     "name": "stdout",
     "output_type": "stream",
     "text": [
      "{0: 1.0790920820574548, 1: 13.643490650221725}\n"
     ]
    }
   ],
   "source": [
    "class_weight = {}\n",
    "total = 0.0\n",
    "images = glob.glob(os.path.join(data_path, \"*\", \"*\"))\n",
    "for m in filter(lambda x: \"mask\" in x, images):\n",
    "    mask = cv2.imread(m, cv2.IMREAD_GRAYSCALE)\n",
    "    mask = mask / 255\n",
    "    mask = mask.astype(np.int64)\n",
    "    unique, counts = np.unique(mask, return_counts=True)\n",
    "    for c, count in zip(unique.tolist(), counts.tolist()):\n",
    "        class_weight[c] = class_weight.get(c, 0.0) + float(count)\n",
    "        total += float(count)\n",
    "for c in class_weight.keys():\n",
    "    class_weight[c] = total / class_weight[c]\n",
    "\n",
    "print(class_weight)"
   ]
  },
  {
   "cell_type": "code",
   "execution_count": 5,
   "id": "c20c26cd",
   "metadata": {
    "execution": {
     "iopub.execute_input": "2025-08-28T23:38:44.960263Z",
     "iopub.status.busy": "2025-08-28T23:38:44.959999Z",
     "iopub.status.idle": "2025-08-28T23:38:44.968339Z",
     "shell.execute_reply": "2025-08-28T23:38:44.967619Z"
    },
    "papermill": {
     "duration": 0.014903,
     "end_time": "2025-08-28T23:38:44.969452",
     "exception": false,
     "start_time": "2025-08-28T23:38:44.954549",
     "status": "completed"
    },
    "tags": []
   },
   "outputs": [],
   "source": [
    "class BiologyDataset(Dataset):\n",
    "    def __init__(self, root: str, class_weight={}, transforms=None):\n",
    "        self.root = root\n",
    "        self.transforms   = transforms\n",
    "        self.class_weight = class_weight\n",
    "\n",
    "        pair = {}\n",
    "        for img in glob.glob(os.path.join(root, \"*\", \"*\")):        \n",
    "            if (m:=re.search(r'([^/]+?)(?:_mask.*)?\\.png$', img)):\n",
    "                img_id = m.group(1)\n",
    "                if img_id in pair:\n",
    "                    if \"mask\" in img:\n",
    "                        pair[img_id][1].append(img)\n",
    "                else:\n",
    "                    if \"mask\" in img:\n",
    "                        path = os.path.join(os.path.dirname(img), img_id + \".png\")\n",
    "                        if os.path.exists(path):\n",
    "                            pair[img_id] = (path, [img])\n",
    "                    else:\n",
    "                        pair[img_id] = (img, [])\n",
    "\n",
    "        self.images   = list(pair.values())\n",
    "        self.category = [os.path.dirname(p).split(\"/\")[-1] for p, _ in self.images]\n",
    "\n",
    "    def __getitem__(self, idx):\n",
    "        img_path, mask_paths = self.images[idx]\n",
    "        \n",
    "        img = cv2.imread(img_path, cv2.IMREAD_GRAYSCALE)\n",
    "        \n",
    "        masks = []\n",
    "        for m in mask_paths:\n",
    "            mask = cv2.imread(m, cv2.IMREAD_GRAYSCALE)\n",
    "            masks.append(np.array(mask, dtype=np.uint8))\n",
    "        mask = np.max(masks, axis=0)\n",
    "            \n",
    "        if self.transforms:\n",
    "            transformed = self.transforms(image=img, mask=mask)\n",
    "            img  = transformed[\"image\"]\n",
    "            mask = transformed[\"mask\"]\n",
    "\n",
    "        weights = torch.empty(mask.size(), dtype=torch.float64)\n",
    "        for c in np.unique(mask):\n",
    "            weights[mask == c] = self.class_weight.get(c, 1.0)\n",
    "        \n",
    "        return img, mask, weights\n",
    "\n",
    "    def __len__(self):\n",
    "        return len(self.images)"
   ]
  },
  {
   "cell_type": "code",
   "execution_count": 6,
   "id": "7212c0ce",
   "metadata": {
    "execution": {
     "iopub.execute_input": "2025-08-28T23:38:44.978817Z",
     "iopub.status.busy": "2025-08-28T23:38:44.978579Z",
     "iopub.status.idle": "2025-08-28T23:38:44.985499Z",
     "shell.execute_reply": "2025-08-28T23:38:44.984997Z"
    },
    "papermill": {
     "duration": 0.013098,
     "end_time": "2025-08-28T23:38:44.986543",
     "exception": false,
     "start_time": "2025-08-28T23:38:44.973445",
     "status": "completed"
    },
    "tags": []
   },
   "outputs": [],
   "source": [
    "def resize_input(x, size, interpolation, **kwargs):\n",
    "    return cv2.resize(x, size, interpolation=interpolation)\n",
    "\n",
    "def process_mask(mask, **kwargs):\n",
    "    return (mask / 255).astype(np.int64)\n",
    "\n",
    "def get_train_transforms(image_size, mask_size):\n",
    "    resize_image = functools.partial(resize_input, size=image_size, interpolation=cv2.INTER_CUBIC)\n",
    "    resize_mask  = functools.partial(resize_input, size=mask_size, interpolation=cv2.INTER_NEAREST)\n",
    "        \n",
    "    return A.Compose([\n",
    "        A.HorizontalFlip(p=0.5),\n",
    "        A.VerticalFlip(p=0.5),\n",
    "        A.ElasticTransform(\n",
    "            alpha=120,\n",
    "            sigma=120 * 0.05,\n",
    "            interpolation=cv2.INTER_CUBIC,\n",
    "            mask_interpolation=cv2.INTER_NEAREST,\n",
    "            p=0.5,\n",
    "        ),\n",
    "        A.Affine(\n",
    "            scale=(0.8, 1.2),\n",
    "            rotate=(-30, 30),\n",
    "            interpolation=cv2.INTER_CUBIC,\n",
    "            mask_interpolation=cv2.INTER_NEAREST,\n",
    "            fill=0,\n",
    "            fill_mask=0,\n",
    "            p=0.5\n",
    "        ),\n",
    "        A.Lambda(image=resize_image, mask=resize_mask),\n",
    "        A.RandomBrightnessContrast(brightness_limit=0.3, contrast_limit=0.3, p=0.5),\n",
    "        A.CoarseDropout(num_holes_range=(1, 8), hole_height_range=(0.1, 0.25), hole_width_range=(0.1, 0.25), p=0.5),\n",
    "        A.OneOf([\n",
    "            A.GaussNoise(),\n",
    "            A.GaussianBlur(blur_limit=3),\n",
    "        ], p=0.5),\n",
    "        A.Normalize(mean=(0.5, 0.5, 0.5), std=(0.225, 0.225, 0.225)),\n",
    "        A.Lambda(mask=process_mask),\n",
    "        ToTensorV2(),\n",
    "    ])\n",
    "\n",
    "def get_val_transforms(image_size, mask_size):\n",
    "    resize_image = functools.partial(resize_input, size=image_size, interpolation=cv2.INTER_CUBIC)\n",
    "    resize_mask  = functools.partial(resize_input, size=mask_size, interpolation=cv2.INTER_NEAREST)\n",
    "        \n",
    "    return A.Compose([\n",
    "        A.Lambda(image=resize_image, mask=resize_mask),\n",
    "        A.Normalize(mean=(0.5, 0.5, 0.5), std=(0.225, 0.225, 0.225)),\n",
    "        A.Lambda(mask=process_mask),\n",
    "        ToTensorV2(),\n",
    "    ])"
   ]
  },
  {
   "cell_type": "markdown",
   "id": "1c2a4207",
   "metadata": {
    "papermill": {
     "duration": 0.003874,
     "end_time": "2025-08-28T23:38:44.994492",
     "exception": false,
     "start_time": "2025-08-28T23:38:44.990618",
     "status": "completed"
    },
    "tags": []
   },
   "source": [
    "### Train, Validation, Test Split"
   ]
  },
  {
   "cell_type": "code",
   "execution_count": 7,
   "id": "9e914db2",
   "metadata": {
    "execution": {
     "iopub.execute_input": "2025-08-28T23:38:45.003079Z",
     "iopub.status.busy": "2025-08-28T23:38:45.002844Z",
     "iopub.status.idle": "2025-08-28T23:38:45.715166Z",
     "shell.execute_reply": "2025-08-28T23:38:45.714342Z"
    },
    "papermill": {
     "duration": 0.718081,
     "end_time": "2025-08-28T23:38:45.716561",
     "exception": false,
     "start_time": "2025-08-28T23:38:44.998480",
     "status": "completed"
    },
    "tags": []
   },
   "outputs": [],
   "source": [
    "dataset = BiologyDataset(data_path)\n",
    "\n",
    "idx = range(len(dataset))\n",
    "\n",
    "train_idx, test_idx, train_cat, _ = train_test_split(idx, dataset.category, test_size=0.2, stratify=dataset.category)\n",
    "train_idx, val_idx  = train_test_split(train_idx, test_size=0.2, stratify=train_cat)"
   ]
  },
  {
   "cell_type": "code",
   "execution_count": 8,
   "id": "1e0087db",
   "metadata": {
    "execution": {
     "iopub.execute_input": "2025-08-28T23:38:45.725636Z",
     "iopub.status.busy": "2025-08-28T23:38:45.725398Z",
     "iopub.status.idle": "2025-08-28T23:38:45.974482Z",
     "shell.execute_reply": "2025-08-28T23:38:45.973692Z"
    },
    "papermill": {
     "duration": 0.255113,
     "end_time": "2025-08-28T23:38:45.975875",
     "exception": false,
     "start_time": "2025-08-28T23:38:45.720762",
     "status": "completed"
    },
    "tags": []
   },
   "outputs": [],
   "source": [
    "train_dataset = Subset(BiologyDataset(data_path, class_weight=class_weight, transforms=get_train_transforms((572, 572), (388, 388))), train_idx)\n",
    "val_dataset   = Subset(BiologyDataset(data_path, class_weight=class_weight, transforms=get_val_transforms((572, 572), (388, 388))), val_idx)\n",
    "test_dataset  = Subset(BiologyDataset(data_path, class_weight=class_weight, transforms=get_val_transforms((572, 572), (388, 388))), test_idx)"
   ]
  },
  {
   "cell_type": "markdown",
   "id": "a927f589",
   "metadata": {
    "papermill": {
     "duration": 0.003791,
     "end_time": "2025-08-28T23:38:45.984052",
     "exception": false,
     "start_time": "2025-08-28T23:38:45.980261",
     "status": "completed"
    },
    "tags": []
   },
   "source": [
    "### Dataloader"
   ]
  },
  {
   "cell_type": "code",
   "execution_count": 9,
   "id": "79b1d174",
   "metadata": {
    "execution": {
     "iopub.execute_input": "2025-08-28T23:38:45.993010Z",
     "iopub.status.busy": "2025-08-28T23:38:45.992758Z",
     "iopub.status.idle": "2025-08-28T23:38:45.996809Z",
     "shell.execute_reply": "2025-08-28T23:38:45.996278Z"
    },
    "papermill": {
     "duration": 0.010054,
     "end_time": "2025-08-28T23:38:45.998122",
     "exception": false,
     "start_time": "2025-08-28T23:38:45.988068",
     "status": "completed"
    },
    "tags": []
   },
   "outputs": [],
   "source": [
    "batch_size = 1\n",
    "\n",
    "train_loader = DataLoader(train_dataset, batch_size=batch_size, shuffle=True)\n",
    "val_loader   = DataLoader(val_dataset, batch_size=batch_size, shuffle=False)\n",
    "test_loader  = DataLoader(test_dataset, batch_size=batch_size, shuffle=False)"
   ]
  },
  {
   "cell_type": "markdown",
   "id": "34702f35",
   "metadata": {
    "papermill": {
     "duration": 0.003664,
     "end_time": "2025-08-28T23:38:46.005774",
     "exception": false,
     "start_time": "2025-08-28T23:38:46.002110",
     "status": "completed"
    },
    "tags": []
   },
   "source": [
    "## UNet Model"
   ]
  },
  {
   "cell_type": "markdown",
   "id": "d5dfb20d",
   "metadata": {
    "papermill": {
     "duration": 0.003748,
     "end_time": "2025-08-28T23:38:46.013368",
     "exception": false,
     "start_time": "2025-08-28T23:38:46.009620",
     "status": "completed"
    },
    "tags": []
   },
   "source": [
    "### Model Architecture"
   ]
  },
  {
   "cell_type": "code",
   "execution_count": 10,
   "id": "df11e5bb",
   "metadata": {
    "execution": {
     "iopub.execute_input": "2025-08-28T23:38:46.022301Z",
     "iopub.status.busy": "2025-08-28T23:38:46.022095Z",
     "iopub.status.idle": "2025-08-28T23:38:46.029499Z",
     "shell.execute_reply": "2025-08-28T23:38:46.029004Z"
    },
    "papermill": {
     "duration": 0.01304,
     "end_time": "2025-08-28T23:38:46.030496",
     "exception": false,
     "start_time": "2025-08-28T23:38:46.017456",
     "status": "completed"
    },
    "tags": []
   },
   "outputs": [],
   "source": [
    "class DoubleConv(nn.Module):\n",
    "    def __init__ (self,in_channels,out_channels):\n",
    "        super(DoubleConv,self).__init__()\n",
    "        self.conv1 = nn.Conv2d(in_channels, out_channels, 3, padding=0)\n",
    "        self.relu1 = nn.ReLU(inplace=True)\n",
    "        self.conv2 = nn.Conv2d(out_channels, out_channels, 3, padding=0)\n",
    "        self.relu2 = nn.ReLU(inplace=True)\n",
    "\n",
    "        torch.nn.init.normal_(self.conv1.weight, mean=0, std=np.sqrt(2 / (3 * 3 * in_channels)))\n",
    "        torch.nn.init.normal_(self.conv2.weight, mean=0, std=np.sqrt(2 / (3 * 3 * out_channels)))\n",
    "\n",
    "    def forward(self,x):\n",
    "        x = self.conv1(x)\n",
    "        x = self.relu1(x)\n",
    "        x = self.conv2(x)\n",
    "        x = self.relu2(x)\n",
    "        return x\n",
    "\n",
    "class Down(nn.Module):\n",
    "    def __init__(self, in_channels,out_channels):\n",
    "        super(Down,self).__init__()\n",
    "        self.down = nn.MaxPool2d(2)\n",
    "        self.conv = DoubleConv(in_channels,out_channels)\n",
    "        \n",
    "    def forward(self,x):\n",
    "        x = self.down(x)\n",
    "        x = self.conv(x)\n",
    "        return x\n",
    "    \n",
    "class Up(nn.Module):\n",
    "    def __init__(self,in_channels,out_channels):\n",
    "        super(Up,self).__init__()\n",
    "        self.up = nn.ConvTranspose2d(in_channels,in_channels//2,kernel_size=2,stride=2)\n",
    "        self.conv = DoubleConv(in_channels,out_channels)\n",
    "        \n",
    "    def forward(self,x,res):\n",
    "        x = self.up(x)\n",
    "        res = v2.CenterCrop(x.size()[-2:])(res)\n",
    "        x = torch.cat([x,res],dim=1)\n",
    "        x = self.conv(x)\n",
    "        return x\n",
    "    "
   ]
  },
  {
   "cell_type": "code",
   "execution_count": 11,
   "id": "adda1f81",
   "metadata": {
    "execution": {
     "iopub.execute_input": "2025-08-28T23:38:46.039409Z",
     "iopub.status.busy": "2025-08-28T23:38:46.038879Z",
     "iopub.status.idle": "2025-08-28T23:38:46.044413Z",
     "shell.execute_reply": "2025-08-28T23:38:46.043850Z"
    },
    "papermill": {
     "duration": 0.010906,
     "end_time": "2025-08-28T23:38:46.045352",
     "exception": false,
     "start_time": "2025-08-28T23:38:46.034446",
     "status": "completed"
    },
    "tags": []
   },
   "outputs": [],
   "source": [
    "class UNet(nn.Module):\n",
    "    def __init__(self,n_channels=1,n_classes=2):\n",
    "        super(UNet,self).__init__()\n",
    "        \n",
    "        # Contracting path (encoder)\n",
    "        self.inc   = DoubleConv(n_channels,64)\n",
    "        self.down1 = Down(64,128)\n",
    "        self.down2 = Down(128,256)\n",
    "        self.down3 = Down(256,512)\n",
    "        self.down4 = Down(512,1024)\n",
    "\n",
    "        # Expansive path (decoder)\n",
    "        self.up1 = Up(1024,512)\n",
    "        self.up2 = Up(512,256)\n",
    "        self.up3 = Up(256,128)\n",
    "        self.up4 = Up(128,64)\n",
    "\n",
    "        #Output layer\n",
    "        self.outc = nn.Conv2d(64,n_classes,kernel_size=1)\n",
    "\n",
    "    def forward(self,x):\n",
    "        # contracting path \n",
    "        x1 = self.inc(x)\n",
    "        x2 = self.down1(x1)\n",
    "        x3 = self.down2(x2)\n",
    "        x4 = self.down3(x3)\n",
    "        x5 = self.down4(x4)\n",
    "        \n",
    "        #expansive path \n",
    "        x = self.up1(x5, x4)\n",
    "        x = self.up2(x, x3)\n",
    "        x = self.up3(x, x2)\n",
    "        x = self.up4(x, x1)\n",
    "            \n",
    "        # Output\n",
    "        output = self.outc(x)\n",
    "        return output   "
   ]
  },
  {
   "cell_type": "markdown",
   "id": "5fc8bd83",
   "metadata": {
    "papermill": {
     "duration": 0.00371,
     "end_time": "2025-08-28T23:38:46.052972",
     "exception": false,
     "start_time": "2025-08-28T23:38:46.049262",
     "status": "completed"
    },
    "tags": []
   },
   "source": [
    "### UNet Criterion"
   ]
  },
  {
   "cell_type": "code",
   "execution_count": 12,
   "id": "fd1b0b9b",
   "metadata": {
    "execution": {
     "iopub.execute_input": "2025-08-28T23:38:46.061454Z",
     "iopub.status.busy": "2025-08-28T23:38:46.061252Z",
     "iopub.status.idle": "2025-08-28T23:38:46.065882Z",
     "shell.execute_reply": "2025-08-28T23:38:46.065379Z"
    },
    "papermill": {
     "duration": 0.010073,
     "end_time": "2025-08-28T23:38:46.066860",
     "exception": false,
     "start_time": "2025-08-28T23:38:46.056787",
     "status": "completed"
    },
    "tags": []
   },
   "outputs": [],
   "source": [
    "class UNetLoss(nn.Module):\n",
    "    def __init__(self):\n",
    "        super(UNetLoss, self).__init__()\n",
    "\n",
    "    def forward(self, outputs, targets, weights=None):\n",
    "\n",
    "        outputs = F.softmax(outputs, dim=1)\n",
    "        outputs = outputs.view(*outputs.size()[:2], -1)\n",
    "        targets = targets.view(*targets.size()[:1], -1)\n",
    "\n",
    "        loss = F.cross_entropy(outputs, targets, reduction=\"none\")\n",
    "        \n",
    "        if weights is not None:\n",
    "            loss *= weights.view(*weights.size()[:1], -1)\n",
    "\n",
    "        loss = loss.sum(axis=0).mean()\n",
    "        \n",
    "        return loss"
   ]
  },
  {
   "cell_type": "markdown",
   "id": "95e6f122",
   "metadata": {
    "papermill": {
     "duration": 0.003637,
     "end_time": "2025-08-28T23:38:46.074457",
     "exception": false,
     "start_time": "2025-08-28T23:38:46.070820",
     "status": "completed"
    },
    "tags": []
   },
   "source": [
    "## Model Training"
   ]
  },
  {
   "cell_type": "markdown",
   "id": "be1deb56",
   "metadata": {
    "papermill": {
     "duration": 0.003618,
     "end_time": "2025-08-28T23:38:46.081920",
     "exception": false,
     "start_time": "2025-08-28T23:38:46.078302",
     "status": "completed"
    },
    "tags": []
   },
   "source": [
    "### Training Functions"
   ]
  },
  {
   "cell_type": "code",
   "execution_count": 13,
   "id": "22e0257b",
   "metadata": {
    "execution": {
     "iopub.execute_input": "2025-08-28T23:38:46.090178Z",
     "iopub.status.busy": "2025-08-28T23:38:46.090001Z",
     "iopub.status.idle": "2025-08-28T23:38:46.095297Z",
     "shell.execute_reply": "2025-08-28T23:38:46.094773Z"
    },
    "papermill": {
     "duration": 0.010518,
     "end_time": "2025-08-28T23:38:46.096246",
     "exception": false,
     "start_time": "2025-08-28T23:38:46.085728",
     "status": "completed"
    },
    "tags": []
   },
   "outputs": [],
   "source": [
    "def train_epoch(model, train_loader, criterion, optimizer, device):\n",
    "    model.train()\n",
    "    total_loss = 0\n",
    "    \n",
    "    for images, masks, weights in tqdm.tqdm(iter(train_loader), \"Training\"):\n",
    "        images, masks, weights = images.to(device), masks.to(device), weights.to(device)\n",
    "        \n",
    "        optimizer.zero_grad()\n",
    "        outputs = model(images)\n",
    "        \n",
    "        loss = criterion(outputs, masks, weights)\n",
    "        loss.backward()\n",
    "        optimizer.step()\n",
    "        \n",
    "        total_loss += loss.item()\n",
    "    \n",
    "    return total_loss / len(train_loader)\n",
    "\n",
    "def validate_epoch(model, val_loader, criterion, device):\n",
    "    model.eval()\n",
    "    total_loss = 0\n",
    "    \n",
    "    with torch.no_grad():\n",
    "        for images, masks, weights in tqdm.tqdm(iter(val_loader), \"Validation\"):\n",
    "            images, masks, weights = images.to(device), masks.to(device), weights.to(device)\n",
    "            \n",
    "            outputs = model(images)\n",
    "            \n",
    "            loss = criterion(outputs, masks, weights)\n",
    "            total_loss += loss.item()\n",
    "    \n",
    "    return total_loss / len(val_loader)"
   ]
  },
  {
   "cell_type": "markdown",
   "id": "e94801eb",
   "metadata": {
    "papermill": {
     "duration": 0.003665,
     "end_time": "2025-08-28T23:38:46.103801",
     "exception": false,
     "start_time": "2025-08-28T23:38:46.100136",
     "status": "completed"
    },
    "tags": []
   },
   "source": [
    "### Training Loop"
   ]
  },
  {
   "cell_type": "code",
   "execution_count": 14,
   "id": "5d0ee04d",
   "metadata": {
    "execution": {
     "iopub.execute_input": "2025-08-28T23:38:46.112485Z",
     "iopub.status.busy": "2025-08-28T23:38:46.112057Z",
     "iopub.status.idle": "2025-08-29T01:39:07.684641Z",
     "shell.execute_reply": "2025-08-29T01:39:07.683985Z"
    },
    "papermill": {
     "duration": 7221.579292,
     "end_time": "2025-08-29T01:39:07.686946",
     "exception": false,
     "start_time": "2025-08-28T23:38:46.107654",
     "status": "completed"
    },
    "tags": []
   },
   "outputs": [
    {
     "data": {
      "image/png": "[encoded data removed]",
      "text/plain": [
       "<Figure size 1200x800 with 2 Axes>"
      ]
     },
     "metadata": {},
     "output_type": "display_data"
    },
    {
     "name": "stdout",
     "output_type": "stream",
     "text": [
      "Loss\n",
      "\ttraining         \t (min:    1.364, max:    1.433, cur:    1.386)\n",
      "\tvalidation       \t (min:    1.376, max:    1.395, cur:    1.382)\n"
     ]
    }
   ],
   "source": [
    "plotlosses = PlotLosses()\n",
    "\n",
    "device = torch.device('cuda' if torch.cuda.is_available() else 'cpu')\n",
    "print(f'Using device: {device}')\n",
    "\n",
    "model = UNet(n_channels=1, n_classes=2).to(device)\n",
    "\n",
    "criterion = UNetLoss()\n",
    "optimizer = optim.SGD(model.parameters(), lr=5e-5, momentum=0.99, weight_decay=1e-10)\n",
    "scheduler = optim.lr_scheduler.CosineAnnealingLR(optimizer, T_max=5)\n",
    "\n",
    "best_val_loss = float('inf')\n",
    "\n",
    "for epoch in range(100):\n",
    "    \n",
    "    train_loss = train_epoch(model, train_loader, criterion, optimizer, device)\n",
    "    val_loss = validate_epoch(model, val_loader, criterion, device)\n",
    "    \n",
    "    scheduler.step()\n",
    "    \n",
    "    if val_loss < best_val_loss:\n",
    "        best_val_loss = val_loss\n",
    "        torch.save(model.state_dict(), 'best_unet_model.pth')\n",
    "\n",
    "    plotlosses.update({'loss': train_loss, 'val_loss': val_loss})\n",
    "    plotlosses.send()"
   ]
  },
  {
   "cell_type": "markdown",
   "id": "29c2bf2c",
   "metadata": {
    "papermill": {
     "duration": 0.005048,
     "end_time": "2025-08-29T01:39:07.697518",
     "exception": false,
     "start_time": "2025-08-29T01:39:07.692470",
     "status": "completed"
    },
    "tags": []
   },
   "source": [
    "## Model Evaluation"
   ]
  },
  {
   "cell_type": "markdown",
   "id": "af34bd68",
   "metadata": {
    "papermill": {
     "duration": 0.004914,
     "end_time": "2025-08-29T01:39:07.707590",
     "exception": false,
     "start_time": "2025-08-29T01:39:07.702676",
     "status": "completed"
    },
    "tags": []
   },
   "source": [
    "### Loading best model"
   ]
  },
  {
   "cell_type": "code",
   "execution_count": 15,
   "id": "96ec2664",
   "metadata": {
    "execution": {
     "iopub.execute_input": "2025-08-29T01:39:07.718636Z",
     "iopub.status.busy": "2025-08-29T01:39:07.718413Z",
     "iopub.status.idle": "2025-08-29T01:39:08.254467Z",
     "shell.execute_reply": "2025-08-29T01:39:08.253833Z"
    },
    "papermill": {
     "duration": 0.542982,
     "end_time": "2025-08-29T01:39:08.255606",
     "exception": false,
     "start_time": "2025-08-29T01:39:07.712624",
     "status": "completed"
    },
    "tags": []
   },
   "outputs": [
    {
     "data": {
      "text/plain": [
       "<All keys matched successfully>"
      ]
     },
     "execution_count": 15,
     "metadata": {},
     "output_type": "execute_result"
    }
   ],
   "source": [
    "model = UNet(n_channels=1, n_classes=2).to(device)\n",
    "model.load_state_dict(torch.load('best_unet_model.pth'))"
   ]
  },
  {
   "cell_type": "markdown",
   "id": "f9883763",
   "metadata": {
    "papermill": {
     "duration": 0.005144,
     "end_time": "2025-08-29T01:39:08.266529",
     "exception": false,
     "start_time": "2025-08-29T01:39:08.261385",
     "status": "completed"
    },
    "tags": []
   },
   "source": [
    "### Utility Function"
   ]
  },
  {
   "cell_type": "code",
   "execution_count": 16,
   "id": "2a766479",
   "metadata": {
    "execution": {
     "iopub.execute_input": "2025-08-29T01:39:08.278014Z",
     "iopub.status.busy": "2025-08-29T01:39:08.277753Z",
     "iopub.status.idle": "2025-08-29T01:39:08.290776Z",
     "shell.execute_reply": "2025-08-29T01:39:08.290346Z"
    },
    "papermill": {
     "duration": 0.019921,
     "end_time": "2025-08-29T01:39:08.291839",
     "exception": false,
     "start_time": "2025-08-29T01:39:08.271918",
     "status": "completed"
    },
    "tags": []
   },
   "outputs": [],
   "source": [
    "from sklearn.metrics import rand_score\n",
    "\n",
    "def restore(images, mean=0.5, std=0.225):\n",
    "    images = images.detach().cpu().numpy() * np.array(std) + np.array(mean)\n",
    "    images.resize((images.shape[0], *images.shape[-2:]))\n",
    "    return images\n",
    "\n",
    "def output_to_mask(images):\n",
    "    images = torch.argmax(images, dim=1).to(torch.uint8)\n",
    "    return images.cpu()\n",
    "\n",
    "def pixel_error(ground_truth, prediction):\n",
    "  if ground_truth.size() != prediction.size():\n",
    "    raise ValueError(\"Input masks must have the same shape.\")\n",
    "\n",
    "  misclassified_pixels = (ground_truth != prediction).sum()\n",
    "  total_pixels = ground_truth.numel()\n",
    "  error = misclassified_pixels / total_pixels\n",
    "\n",
    "  return error\n",
    "\n",
    "def rand_error(ground_truth, prediction):\n",
    "  if ground_truth.size() != prediction.size():\n",
    "    raise ValueError(\"Input masks must have the same shape.\")\n",
    "\n",
    "  error = 1.0 - rand_score(ground_truth.view(-1).numpy(), prediction.view(-1).numpy())\n",
    "\n",
    "  return error\n",
    "\n",
    "def evaluate_error(model, data):\n",
    "    model.to(device)\n",
    "    \n",
    "    instance, masks, _ = data\n",
    "    instance = instance.to(device)\n",
    "    \n",
    "    output = model(instance)\n",
    "    output = output_to_mask(output)\n",
    "    \n",
    "    masks = masks.view(output.size())\n",
    "\n",
    "    pixel_err, rand_err = 0.0, 0.0\n",
    "\n",
    "    for i in range(len(instance)):\n",
    "        pixel_err += pixel_error(masks[i], output[i])\n",
    "        rand_err  += rand_error(masks[i], output[i])\n",
    "\n",
    "    return pixel_err / len(instance), rand_err / len(instance)\n",
    "\n",
    "def plot_output(model, data):\n",
    "    model.to(device)\n",
    "    \n",
    "    instance, masks, _ = data\n",
    "    instance = instance.to(device)\n",
    "    \n",
    "    output = model(instance)\n",
    "    output = output_to_mask(output)\n",
    "    \n",
    "    masks    = masks.view(output.size())\n",
    "    instance = restore(instance)\n",
    "    \n",
    "    for i in range(len(instance)):\n",
    "\n",
    "        image = cv2.resize(instance[i], masks[i].size(), interpolation=cv2.INTER_CUBIC)\n",
    "        \n",
    "        plt.figure(figsize=(20, 5))\n",
    "        \n",
    "        plt.subplot(1, 5, 1)\n",
    "        plt.imshow(output[i] * 255, cmap=\"gray\")  \n",
    "        plt.axis('off')\n",
    "        plt.title(\"Pred Mask\") \n",
    "        \n",
    "        plt.subplot(1, 5, 2)\n",
    "        plt.imshow(masks[i] * 255, cmap=\"gray\")  \n",
    "        plt.axis('off')\n",
    "        plt.title(\"True Mask\")\n",
    "    \n",
    "        plt.subplot(1, 5, 3)\n",
    "        plt.imshow(image, cmap=\"gray\")  \n",
    "        plt.axis('off')\n",
    "        plt.title(\"Original Image\")\n",
    "    \n",
    "        plt.subplot(1, 5, 4)\n",
    "        plt.imshow(image * output[i].numpy(), cmap=\"gray\")  \n",
    "        plt.axis('off')\n",
    "        plt.title(\"Pred Masked Image\")\n",
    "    \n",
    "        plt.subplot(1, 5, 5)\n",
    "        plt.imshow(image * masks[i].numpy(), cmap=\"gray\")  \n",
    "        plt.axis('off')\n",
    "        plt.title(\"True Masked Image\")\n",
    "\n",
    "        print(f\"Pixel Error: {pixel_error(masks[i], output[i])}\")\n",
    "        print(f\"Rand Error : {rand_error(masks[i], output[i])}\")\n",
    "    \n",
    "        plt.tight_layout()\n",
    "    \n",
    "        plt.show()"
   ]
  },
  {
   "cell_type": "code",
   "execution_count": null,
   "id": "aa5749de",
   "metadata": {
    "execution": {
     "iopub.execute_input": "2025-08-29T01:39:08.365486Z",
     "iopub.status.busy": "2025-08-29T01:39:08.364866Z",
     "iopub.status.idle": "2025-08-29T01:39:10.132052Z",
     "shell.execute_reply": "2025-08-29T01:39:10.131297Z"
    },
    "papermill": {
     "duration": 1.836165,
     "end_time": "2025-08-29T01:39:10.133220",
     "exception": false,
     "start_time": "2025-08-29T01:39:08.297055",
     "status": "completed"
    },
    "tags": []
   },
   "outputs": [],
   "source": [
    "c = 0\n",
    "for data in test_loader:\n",
    "    if c == 3: break\n",
    "    print(\"#\" * 10)\n",
    "    plot_output(model, data)\n",
    "    print(\"#\" * 10)\n",
    "    c += 1"
   ]
  },
  {
   "cell_type": "code",
   "execution_count": 18,
   "id": "2a8f8b13",
   "metadata": {
    "execution": {
     "iopub.execute_input": "2025-08-29T01:39:10.174625Z",
     "iopub.status.busy": "2025-08-29T01:39:10.174387Z",
     "iopub.status.idle": "2025-08-29T01:39:23.419684Z",
     "shell.execute_reply": "2025-08-29T01:39:23.418879Z"
    },
    "papermill": {
     "duration": 13.265935,
     "end_time": "2025-08-29T01:39:23.420877",
     "exception": false,
     "start_time": "2025-08-29T01:39:10.154942",
     "status": "completed"
    },
    "tags": []
   },
   "outputs": [
    {
     "name": "stdout",
     "output_type": "stream",
     "text": [
      "Average Pixel Error: 0.5291484594345093\n",
      "Average Rand Error : 0.4446255938677848\n"
     ]
    }
   ],
   "source": [
    "avg_pixel_error = 0.0\n",
    "avg_rand_error  = 0.0\n",
    "\n",
    "for data in test_loader:\n",
    "    errors = evaluate_error(model, data)\n",
    "    avg_pixel_error += errors[0]\n",
    "    avg_rand_error  += errors[1]\n",
    "\n",
    "print(f\"Average Pixel Error: {avg_pixel_error / len(test_loader)}\")\n",
    "print(f\"Average Rand Error : {avg_rand_error  / len(test_loader)}\")"
   ]
  },
  {
   "cell_type": "markdown",
   "id": "78a89fc3",
   "metadata": {
    "papermill": {
     "duration": 0.019256,
     "end_time": "2025-08-29T01:39:23.460395",
     "exception": false,
     "start_time": "2025-08-29T01:39:23.441139",
     "status": "completed"
    },
    "tags": []
   },
   "source": [
    "---"
   ]
  }
 ],
 "metadata": {
  "kaggle": {
   "accelerator": "gpu",
   "dataSources": [
    {
     "datasetId": 1209633,
     "sourceId": 2021025,
     "sourceType": "datasetVersion"
    }
   ],
   "dockerImageVersionId": 31090,
   "isGpuEnabled": true,
   "isInternetEnabled": true,
   "language": "python",
   "sourceType": "notebook"
  },
  "kernelspec": {
   "display_name": "Python 3",
   "language": "python",
   "name": "python3"
  },
  "language_info": {
   "codemirror_mode": {
    "name": "ipython",
    "version": 3
   },
   "file_extension": ".py",
   "mimetype": "text/x-python",
   "name": "python",
   "nbconvert_exporter": "python",
   "pygments_lexer": "ipython3",
   "version": "3.11.13"
  },
  "papermill": {
   "default_parameters": {},
   "duration": 7272.797975,
   "end_time": "2025-08-29T01:39:25.311035",
   "environment_variables": {},
   "exception": null,
   "input_path": "__notebook__.ipynb",
   "output_path": "__notebook__.ipynb",
   "parameters": {},
   "start_time": "2025-08-28T23:38:12.513060",
   "version": "2.6.0"
  }
 },
 "nbformat": 4,
 "nbformat_minor": 5
}
